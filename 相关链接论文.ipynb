{
 "cells": [
  {
   "cell_type": "markdown",
   "metadata": {
    "Collapsed": "false"
   },
   "source": [
    "CNN的可视化\n",
    "\n",
    "https://github.com/utkuozbulak/pytorch-cnn-visualizations#convolutional-neural-network-filter-visualization\n"
   ]
  },
  {
   "cell_type": "markdown",
   "metadata": {
    "Collapsed": "false"
   },
   "source": [
    "Lecun做好放弃概率论的准备 （Yann LeCun）\n",
    "\n",
    "https://www.youtube.com/watch?v=cWzi38-vDbE"
   ]
  },
  {
   "cell_type": "markdown",
   "metadata": {
    "Collapsed": "false"
   },
   "source": [
    "### 概率问题 导致神经网络的数据基础，写的好\n",
    "https://blog.csdn.net/li8zi8fa/article/details/77372260"
   ]
  },
  {
   "cell_type": "markdown",
   "metadata": {
    "Collapsed": "false"
   },
   "source": [
    "生成概率模型\n",
    "https://blog.csdn.net/Uwr44UOuQcNsUQb60zk2/article/details/78372158"
   ]
  },
  {
   "cell_type": "markdown",
   "metadata": {
    "Collapsed": "false"
   },
   "source": [
    "AI 算法工程师手册\n",
    "http://www.huaxiaozhuan.com/"
   ]
  },
  {
   "cell_type": "markdown",
   "metadata": {
    "Collapsed": "false"
   },
   "source": [
    "程序编写程序：泛用人工智能领域的一颗明珠:\n",
    "\n",
    "https://www.msra.cn/zh-cn/news/features/automatic-programming-20170315"
   ]
  },
  {
   "cell_type": "markdown",
   "metadata": {
    "Collapsed": "false"
   },
   "source": [
    "教机器学习编程：\n",
    "\n",
    "https://www.jiqizhixin.com/articles/2017-08-29-11\n"
   ]
  },
  {
   "cell_type": "markdown",
   "metadata": {
    "Collapsed": "false"
   },
   "source": [
    "代码的深渊：2022年，一个试图用AI取代程序员的故事:\n",
    "\n",
    "https://mp.weixin.qq.com/s?__biz=MzAxMzMxNDIyOA==&mid=407242658&idx=1&sn=5e1fa32dc13435f0d140856627c5fb3e&mpshare=1&scene=23&srcid=1118bAaFpy1AkbZRiPYxMvDN#rd"
   ]
  },
  {
   "cell_type": "markdown",
   "metadata": {
    "Collapsed": "false"
   },
   "source": [
    "\n",
    "Deep Learning for Program Synthesis:\n",
    "Lessons and Challenges\n",
    "\n",
    "文章写的非常好！！！"
   ]
  },
  {
   "cell_type": "markdown",
   "metadata": {
    "Collapsed": "false"
   },
   "source": [
    "机器码农：深度学习自动编程:\n",
    "\n",
    "https://blog.csdn.net/zdy0_2004/article/details/54095232\n"
   ]
  },
  {
   "cell_type": "markdown",
   "metadata": {
    "Collapsed": "false"
   },
   "source": [
    "\n",
    "\n",
    "自动编程研究及代码：\n",
    "https://github.com/ml4tp/gamepad\n"
   ]
  },
  {
   "cell_type": "markdown",
   "metadata": {
    "Collapsed": "false"
   },
   "source": [
    "ICLR 2017\n",
    "\n",
    "这个会议的来头不小，由位列深度学习三大巨头之二的 Yoshua Bengio 和 Yann LeCun 牵头创办。\n",
    "\n"
   ]
  },
  {
   "cell_type": "markdown",
   "metadata": {
    "Collapsed": "false"
   },
   "source": [
    "严肃的研究者就不该去触碰强人工智能：\n",
    "https://zhuanlan.zhihu.com/p/33340973"
   ]
  },
  {
   "cell_type": "markdown",
   "metadata": {
    "Collapsed": "false"
   },
   "source": [
    "## Neuro-Symbolic Program Synthesis"
   ]
  },
  {
   "cell_type": "code",
   "execution_count": 1,
   "metadata": {
    "Collapsed": "false"
   },
   "outputs": [
    {
     "ename": "SyntaxError",
     "evalue": "invalid syntax (<ipython-input-1-c79a57deda8b>, line 1)",
     "output_type": "error",
     "traceback": [
      "\u001b[0;36m  File \u001b[0;32m\"<ipython-input-1-c79a57deda8b>\"\u001b[0;36m, line \u001b[0;32m1\u001b[0m\n\u001b[0;31m    https://mbd.baidu.com/newspage/data/landingsuper?context=%7B%22nid%22%3A%22news_9431423482382980525%22%7D&n_type=0&p_from=1\u001b[0m\n\u001b[0m         ^\u001b[0m\n\u001b[0;31mSyntaxError\u001b[0m\u001b[0;31m:\u001b[0m invalid syntax\n"
     ]
    }
   ],
   "source": [
    "https://mbd.baidu.com/newspage/data/landingsuper?context=%7B%22nid%22%3A%22news_9431423482382980525%22%7D&n_type=0&p_from=1"
   ]
  },
  {
   "cell_type": "code",
   "execution_count": null,
   "metadata": {
    "Collapsed": "false"
   },
   "outputs": [],
   "source": []
  },
  {
   "cell_type": "code",
   "execution_count": null,
   "metadata": {
    "Collapsed": "false"
   },
   "outputs": [],
   "source": []
  }
 ],
 "metadata": {
  "kernelspec": {
   "display_name": "Python 2",
   "language": "python",
   "name": "python2"
  },
  "language_info": {
   "codemirror_mode": {
    "name": "ipython",
    "version": 2
   },
   "file_extension": ".py",
   "mimetype": "text/x-python",
   "name": "python",
   "nbconvert_exporter": "python",
   "pygments_lexer": "ipython2",
   "version": "2.7.17"
  },
  "toc": {
   "base_numbering": 1,
   "nav_menu": {},
   "number_sections": true,
   "sideBar": true,
   "skip_h1_title": false,
   "title_cell": "Table of Contents",
   "title_sidebar": "Contents",
   "toc_cell": false,
   "toc_position": {},
   "toc_section_display": true,
   "toc_window_display": false
  }
 },
 "nbformat": 4,
 "nbformat_minor": 4
}
